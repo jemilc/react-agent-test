{
 "cells": [
  {
   "cell_type": "code",
   "execution_count": 3,
   "metadata": {},
   "outputs": [
    {
     "data": {
      "text/plain": [
       "True"
      ]
     },
     "execution_count": 3,
     "metadata": {},
     "output_type": "execute_result"
    }
   ],
   "source": [
    "# load .env\n",
    "import os\n",
    "from dotenv import load_dotenv\n",
    "\n",
    "load_dotenv()"
   ]
  },
  {
   "cell_type": "code",
   "execution_count": 13,
   "metadata": {},
   "outputs": [
    {
     "name": "stdout",
     "output_type": "stream",
     "text": [
      "Receiving new event of type: metadata...\n",
      "{'run_id': '1eff0b64-3549-6aff-8d3b-ec6b0b4388d6', 'attempt': 1}\n",
      "\n",
      "\n",
      "\n",
      "Receiving new event of type: error...\n",
      "{'error': 'TypeError', 'message': '\"Could not resolve authentication method. Expected either api_key or auth_token to be set. Or for one of the `X-Api-Key` or `Authorization` headers to be explicitly omitted\"'}\n",
      "\n",
      "\n",
      "\n"
     ]
    }
   ],
   "source": [
    "from langgraph_sdk import get_client\n",
    "\n",
    "client = get_client(\n",
    "    url=\"https://react-test-79d892aaa69d5854b41d9115cb9169b6.us.langgraph.app\",\n",
    "    api_key=\"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\",\n",
    ")\n",
    "\n",
    "async for chunk in client.runs.stream(\n",
    "    None,  # Threadless run\n",
    "    \"agent\",  # Name of assistant. Defined in langgraph.json.\n",
    "    input={\n",
    "        \"messages\": [\n",
    "            {\n",
    "                \"role\": \"human\",\n",
    "                \"content\": \"What is LangGraph?\",\n",
    "            }\n",
    "        ],\n",
    "    },\n",
    "    stream_mode=\"updates\",\n",
    "    config={\n",
    "        \"configurable\": {\n",
    "            \"model_name\": \"openai/gpt-4o\",\n",
    "            \"ls_model_name\": \"gpt-4o\",\n",
    "            \"ls_provider\": \"openai\",\n",
    "        }\n",
    "    },\n",
    "):\n",
    "    print(f\"Receiving new event of type: {chunk.event}...\")\n",
    "    print(chunk.data)\n",
    "    print(\"\\n\\n\")"
   ]
  }
 ],
 "metadata": {
  "kernelspec": {
   "display_name": ".venv",
   "language": "python",
   "name": "python3"
  },
  "language_info": {
   "codemirror_mode": {
    "name": "ipython",
    "version": 3
   },
   "file_extension": ".py",
   "mimetype": "text/x-python",
   "name": "python",
   "nbconvert_exporter": "python",
   "pygments_lexer": "ipython3",
   "version": "3.11.11"
  }
 },
 "nbformat": 4,
 "nbformat_minor": 2
}
